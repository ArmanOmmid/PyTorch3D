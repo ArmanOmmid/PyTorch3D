{
 "cells": [
  {
   "cell_type": "code",
   "execution_count": 1,
   "metadata": {},
   "outputs": [],
   "source": [
    "import os\n",
    "import sys\n",
    "import torch\n",
    "import pytorch3d\n",
    "import open3d as o3d\n",
    "import numpy as np\n",
    "import torchinfo\n",
    "\n",
    "device = \"cuda\" if torch.cuda.is_available() else \"cpu\""
   ]
  },
  {
   "cell_type": "code",
   "execution_count": 2,
   "metadata": {},
   "outputs": [],
   "source": [
    "DIR = os.getcwd()\n",
    "MODEL_NET_PATH =f\"{DIR}/ModelNet10\""
   ]
  },
  {
   "cell_type": "code",
   "execution_count": 3,
   "metadata": {},
   "outputs": [],
   "source": [
    "from src.data.modelnet import ModelNet\n",
    "from src.models.pointnet import PointNet\n",
    "dataset = ModelNet(MODEL_NET_PATH, samples=10_000)\n",
    "model = PointNet(10, 64)"
   ]
  },
  {
   "cell_type": "code",
   "execution_count": 4,
   "metadata": {},
   "outputs": [
    {
     "data": {
      "text/plain": [
       "==========================================================================================\n",
       "Layer (type:depth-idx)                   Output Shape              Param #\n",
       "==========================================================================================\n",
       "PointNet                                 [5, 10]                   --\n",
       "├─Permute: 1-1                           [5, 3, 1000]              --\n",
       "├─TNet: 1-2                              [5, 3, 3]                 9\n",
       "│    └─Sequential: 2-1                   [5, 256, 1000]            --\n",
       "│    │    └─Conv1d: 3-1                  [5, 64, 1000]             256\n",
       "│    │    └─BatchNorm1d: 3-2             [5, 64, 1000]             128\n",
       "│    │    └─LeakyReLU: 3-3               [5, 64, 1000]             --\n",
       "│    │    └─Conv1d: 3-4                  [5, 128, 1000]            8,320\n",
       "│    │    └─BatchNorm1d: 3-5             [5, 128, 1000]            256\n",
       "│    │    └─LeakyReLU: 3-6               [5, 128, 1000]            --\n",
       "│    │    └─Conv1d: 3-7                  [5, 256, 1000]            33,024\n",
       "│    │    └─BatchNorm1d: 3-8             [5, 256, 1000]            512\n",
       "│    └─LambdaModule: 2-2                 [5, 256, 1]               --\n",
       "│    └─Sequential: 2-3                   [5, 64]                   --\n",
       "│    │    └─Linear: 3-9                  [5, 128]                  32,896\n",
       "│    │    └─BatchNorm1d: 3-10            [5, 128]                  256\n",
       "│    │    └─LeakyReLU: 3-11              [5, 128]                  --\n",
       "│    │    └─Linear: 3-12                 [5, 64]                   8,256\n",
       "│    │    └─BatchNorm1d: 3-13            [5, 64]                   128\n",
       "│    │    └─LeakyReLU: 3-14              [5, 64]                   --\n",
       "│    └─Linear: 2-4                       [5, 9]                    585\n",
       "├─Permute: 1-3                           [5, 1000, 3]              --\n",
       "├─Permute: 1-4                           [5, 3, 1000]              --\n",
       "├─Sequential: 1-5                        [5, 64, 1000]             --\n",
       "│    └─Conv1d: 2-5                       [5, 64, 1000]             256\n",
       "│    └─BatchNorm1d: 2-6                  [5, 64, 1000]             128\n",
       "│    └─LeakyReLU: 2-7                    [5, 64, 1000]             --\n",
       "│    └─Conv1d: 2-8                       [5, 64, 1000]             4,160\n",
       "│    └─BatchNorm1d: 2-9                  [5, 64, 1000]             128\n",
       "│    └─LeakyReLU: 2-10                   [5, 64, 1000]             --\n",
       "├─TNet: 1-6                              [5, 64, 64]               4,096\n",
       "│    └─Sequential: 2-11                  [5, 256, 1000]            --\n",
       "│    │    └─Conv1d: 3-15                 [5, 64, 1000]             4,160\n",
       "│    │    └─BatchNorm1d: 3-16            [5, 64, 1000]             128\n",
       "│    │    └─LeakyReLU: 3-17              [5, 64, 1000]             --\n",
       "│    │    └─Conv1d: 3-18                 [5, 128, 1000]            8,320\n",
       "│    │    └─BatchNorm1d: 3-19            [5, 128, 1000]            256\n",
       "│    │    └─LeakyReLU: 3-20              [5, 128, 1000]            --\n",
       "│    │    └─Conv1d: 3-21                 [5, 256, 1000]            33,024\n",
       "│    │    └─BatchNorm1d: 3-22            [5, 256, 1000]            512\n",
       "│    └─LambdaModule: 2-12                [5, 256, 1]               --\n",
       "│    └─Sequential: 2-13                  [5, 64]                   --\n",
       "│    │    └─Linear: 3-23                 [5, 128]                  32,896\n",
       "│    │    └─BatchNorm1d: 3-24            [5, 128]                  256\n",
       "│    │    └─LeakyReLU: 3-25              [5, 128]                  --\n",
       "│    │    └─Linear: 3-26                 [5, 64]                   8,256\n",
       "│    │    └─BatchNorm1d: 3-27            [5, 64]                   128\n",
       "│    │    └─LeakyReLU: 3-28              [5, 64]                   --\n",
       "│    └─Linear: 2-14                      [5, 4096]                 266,240\n",
       "├─Permute: 1-7                           [5, 1000, 64]             --\n",
       "├─Permute: 1-8                           [5, 64, 1000]             --\n",
       "├─Sequential: 1-9                        [5, 256, 1000]            --\n",
       "│    └─Conv1d: 2-15                      [5, 128, 1000]            8,320\n",
       "│    └─BatchNorm1d: 2-16                 [5, 128, 1000]            256\n",
       "│    └─LeakyReLU: 2-17                   [5, 128, 1000]            --\n",
       "│    └─Conv1d: 2-18                      [5, 256, 1000]            33,024\n",
       "│    └─BatchNorm1d: 2-19                 [5, 256, 1000]            512\n",
       "├─LambdaModule: 1-10                     [5, 256, 1]               --\n",
       "├─Sequential: 1-11                       [5, 128]                  --\n",
       "│    └─Linear: 2-20                      [5, 128]                  32,896\n",
       "│    └─BatchNorm1d: 2-21                 [5, 128]                  256\n",
       "│    └─LeakyReLU: 2-22                   [5, 128]                  --\n",
       "├─Linear: 1-12                           [5, 10]                   1,290\n",
       "==========================================================================================\n",
       "Total params: 524,124\n",
       "Trainable params: 520,019\n",
       "Non-trainable params: 4,105\n",
       "Total mult-adds (Units.MEGABYTES): 666.26\n",
       "==========================================================================================\n",
       "Input size (MB): 0.06\n",
       "Forward/backward pass size (MB): 112.85\n",
       "Params size (MB): 2.08\n",
       "Estimated Total Size (MB): 114.99\n",
       "=========================================================================================="
      ]
     },
     "execution_count": 4,
     "metadata": {},
     "output_type": "execute_result"
    }
   ],
   "source": [
    "torchinfo.summary(model, (5, 1000, 3))"
   ]
  },
  {
   "cell_type": "code",
   "execution_count": 7,
   "metadata": {},
   "outputs": [
    {
     "data": {
      "text/plain": [
       "(10000, 3)"
      ]
     },
     "execution_count": 7,
     "metadata": {},
     "output_type": "execute_result"
    }
   ],
   "source": [
    "dataset[0][0].shape"
   ]
  },
  {
   "cell_type": "code",
   "execution_count": 6,
   "metadata": {},
   "outputs": [
    {
     "name": "stdout",
     "output_type": "stream",
     "text": [
      "FEngine (64 bits) created at 0x7fea695a0000 (threading is enabled)\n",
      "FEngine resolved backend: OpenGL\n"
     ]
    }
   ],
   "source": [
    "pcd = o3d.geometry.PointCloud()\n",
    "pcd.points = o3d.utility.Vector3dVector(dataset[0][0])\n",
    "o3d.visualization.draw(pcd)"
   ]
  }
 ],
 "metadata": {
  "kernelspec": {
   "display_name": "vision",
   "language": "python",
   "name": "python3"
  },
  "language_info": {
   "codemirror_mode": {
    "name": "ipython",
    "version": 3
   },
   "file_extension": ".py",
   "mimetype": "text/x-python",
   "name": "python",
   "nbconvert_exporter": "python",
   "pygments_lexer": "ipython3",
   "version": "3.11.8"
  }
 },
 "nbformat": 4,
 "nbformat_minor": 2
}
