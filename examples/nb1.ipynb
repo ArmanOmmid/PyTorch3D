{
 "cells": [
  {
   "cell_type": "code",
   "execution_count": 1,
   "metadata": {},
   "outputs": [],
   "source": [
    "import open3d as o3d\n",
    "import numpy as np"
   ]
  },
  {
   "cell_type": "code",
   "execution_count": 12,
   "metadata": {},
   "outputs": [
    {
     "name": "stdout",
     "output_type": "stream",
     "text": [
      "PointCloud with 796825 points.\n",
      "(796825, 3)\n"
     ]
    }
   ],
   "source": [
    "dataset = o3d.data.EaglePointCloud()\n",
    "pcd = o3d.io.read_point_cloud(dataset.path)\n",
    "# o3d.visualization.draw(pcd)\n",
    "print(pcd)\n",
    "print(np.asarray(pcd.points).shape)"
   ]
  },
  {
   "cell_type": "code",
   "execution_count": 14,
   "metadata": {},
   "outputs": [
    {
     "name": "stdout",
     "output_type": "stream",
     "text": [
      "TriangleMesh with 35947 points and 69451 triangles.\n",
      "(35947, 3)\n",
      "(69451, 3)\n"
     ]
    }
   ],
   "source": [
    "dataset = o3d.data.BunnyMesh()\n",
    "mesh = o3d.io.read_triangle_mesh(dataset.path)\n",
    "# o3d.visualization.draw(mesh)\n",
    "print(mesh)\n",
    "print(np.asarray(mesh.vertices).shape)\n",
    "print(np.asarray(mesh.triangles).shape)\n",
    "\n",
    "mesh.compute_vertex_normals()\n",
    "o3d.visualization.draw([mesh])"
   ]
  },
  {
   "cell_type": "code",
   "execution_count": 10,
   "metadata": {},
   "outputs": [
    {
     "name": "stdout",
     "output_type": "stream",
     "text": [
      "<open3d.cpu.pybind.visualization.rendering.TriangleMeshModel object at 0x117a2fef0>\n"
     ]
    }
   ],
   "source": [
    "dataset = o3d.data.MonkeyModel()\n",
    "model = o3d.io.read_triangle_model(dataset.path)\n",
    "# o3d.visualization.draw(model)\n",
    "print(model)"
   ]
  },
  {
   "cell_type": "code",
   "execution_count": 18,
   "metadata": {},
   "outputs": [],
   "source": [
    "# print(\"Testing kdtree in Open3D...\")\n",
    "# print(\"Load a point cloud and paint it gray.\")\n",
    "sample_pcd_data = o3d.data.PCDPointCloud()\n",
    "pcd = o3d.io.read_point_cloud(sample_pcd_data.path)\n",
    "pcd.paint_uniform_color([0.5, 0.5, 0.5])\n",
    "pcd_tree = o3d.geometry.KDTreeFlann(pcd)"
   ]
  },
  {
   "cell_type": "code",
   "execution_count": 19,
   "metadata": {},
   "outputs": [],
   "source": [
    "# print(\"Paint the 1501st point red.\")\n",
    "pcd.colors[1500] = [1, 0, 0]\n",
    "# print(\"Find its 200 nearest neighbors, and paint them blue.\")\n",
    "[k, idx, _] = pcd_tree.search_knn_vector_3d(pcd.points[1500], 200)\n",
    "np.asarray(pcd.colors)[idx[1:], :] = [0, 0, 1]\n",
    "o3d.visualization.draw([pcd])"
   ]
  },
  {
   "cell_type": "code",
   "execution_count": null,
   "metadata": {},
   "outputs": [],
   "source": []
  }
 ],
 "metadata": {
  "kernelspec": {
   "display_name": "vision",
   "language": "python",
   "name": "python3"
  },
  "language_info": {
   "codemirror_mode": {
    "name": "ipython",
    "version": 3
   },
   "file_extension": ".py",
   "mimetype": "text/x-python",
   "name": "python",
   "nbconvert_exporter": "python",
   "pygments_lexer": "ipython3",
   "version": "3.11.8"
  }
 },
 "nbformat": 4,
 "nbformat_minor": 2
}
