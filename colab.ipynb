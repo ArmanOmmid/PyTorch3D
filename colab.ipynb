{
  "nbformat": 4,
  "nbformat_minor": 0,
  "metadata": {
    "colab": {
      "provenance": [],
      "gpuType": "V100",
      "authorship_tag": "ABX9TyOUIOc8E9Pi7yYkGRJ2bV/y",
      "include_colab_link": true
    },
    "kernelspec": {
      "name": "python3",
      "display_name": "Python 3"
    },
    "language_info": {
      "name": "python"
    },
    "accelerator": "GPU"
  },
  "cells": [
    {
      "cell_type": "markdown",
      "metadata": {
        "id": "view-in-github",
        "colab_type": "text"
      },
      "source": [
        "<a href=\"https://colab.research.google.com/github/ArmanOmmid/PyTorch3D/blob/main/colab.ipynb\" target=\"_parent\"><img src=\"https://colab.research.google.com/assets/colab-badge.svg\" alt=\"Open In Colab\"/></a>"
      ]
    },
    {
      "cell_type": "code",
      "execution_count": 1,
      "metadata": {
        "id": "FxchLyOqeG15",
        "colab": {
          "base_uri": "https://localhost:8080/"
        },
        "outputId": "39cef882-60a3-409c-c67c-2cb736d5b3a2"
      },
      "outputs": [
        {
          "output_type": "stream",
          "name": "stdout",
          "text": [
            "/content\n",
            "/content/PyTorch3D\n",
            "Already up to date.\n"
          ]
        }
      ],
      "source": [
        "%cd /content\n",
        "\n",
        "import os\n",
        "import sys\n",
        "from google.colab import drive, files\n",
        "if not os.path.exists(\"/content/drive\"):\n",
        "    drive.mount('/content/drive')\n",
        "DRIVE = \"Colab Drive\"\n",
        "\n",
        "REPOSITORY = \"PyTorch3D\"\n",
        "if not os.path.exists(f\"/content/{REPOSITORY}\"):\n",
        "    !git clone https://github.com/ArmanOmmid/{REPOSITORY}.git\n",
        "    %cd /content/{REPOSITORY}\n",
        "else:\n",
        "    %cd /content/{REPOSITORY}\n",
        "    !git pull"
      ]
    },
    {
      "cell_type": "code",
      "source": [
        "!pip install open3d\n",
        "!python3 download/modelnet.py -v 10"
      ],
      "metadata": {
        "id": "3F28wGKylvQi",
        "outputId": "a5e16180-73e1-4a04-c2ff-deb458ae9cd9",
        "colab": {
          "base_uri": "https://localhost:8080/"
        }
      },
      "execution_count": 2,
      "outputs": [
        {
          "output_type": "stream",
          "name": "stdout",
          "text": [
            "\u001b[31mERROR: Operation cancelled by user\u001b[0m\u001b[31m\n",
            "\u001b[0mModelNet10 Already Downloaded\n"
          ]
        }
      ]
    },
    {
      "cell_type": "code",
      "source": [
        "import torch\n",
        "from src.data.modelnet import ModelNet\n",
        "from src.models.pointnet import PointNet"
      ],
      "metadata": {
        "id": "bo0WoCFTmlB-"
      },
      "execution_count": 3,
      "outputs": []
    },
    {
      "cell_type": "code",
      "source": [
        "DIR = os.getcwd()\n",
        "MODEL_NET_PATH =f\"{DIR}/ModelNet10\"\n",
        "\n",
        "data = ModelNet(MODEL_NET_PATH, 10_000)\n",
        "model = PointNet(10, 64)\n",
        "\n",
        "device = torch.device('cuda' if torch.cuda.is_available() else 'cpu')\n",
        "model = model.to(device)"
      ],
      "metadata": {
        "id": "43DuCrDsmRWh"
      },
      "execution_count": 4,
      "outputs": []
    },
    {
      "cell_type": "code",
      "source": [
        "criterion = torch.nn.CrossEntropyLoss()\n",
        "optimizer = torch.optim.Adam(model.parameters(), lr=0.0002, weight_decay=0.0002)"
      ],
      "metadata": {
        "id": "D3L0RdlEnrvn"
      },
      "execution_count": 5,
      "outputs": []
    },
    {
      "cell_type": "code",
      "source": [
        "data[1][0].shape"
      ],
      "metadata": {
        "id": "9j8c_JmKplmZ",
        "outputId": "589d31f5-5701-49d1-d728-6d34653870e6",
        "colab": {
          "base_uri": "https://localhost:8080/"
        }
      },
      "execution_count": 7,
      "outputs": [
        {
          "output_type": "execute_result",
          "data": {
            "text/plain": [
              "(5000, 3)"
            ]
          },
          "metadata": {},
          "execution_count": 7
        }
      ]
    }
  ]
}