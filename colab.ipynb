{
  "nbformat": 4,
  "nbformat_minor": 0,
  "metadata": {
    "colab": {
      "provenance": [],
      "gpuType": "V100",
      "authorship_tag": "ABX9TyMbu1BQ6/WSyeia6a3xEen5",
      "include_colab_link": true
    },
    "kernelspec": {
      "name": "python3",
      "display_name": "Python 3"
    },
    "language_info": {
      "name": "python"
    },
    "accelerator": "GPU"
  },
  "cells": [
    {
      "cell_type": "markdown",
      "metadata": {
        "id": "view-in-github",
        "colab_type": "text"
      },
      "source": [
        "<a href=\"https://colab.research.google.com/github/ArmanOmmid/PyTorch3D/blob/main/colab.ipynb\" target=\"_parent\"><img src=\"https://colab.research.google.com/assets/colab-badge.svg\" alt=\"Open In Colab\"/></a>"
      ]
    },
    {
      "cell_type": "code",
      "execution_count": null,
      "metadata": {
        "id": "FxchLyOqeG15"
      },
      "outputs": [],
      "source": [
        "%cd /content\n",
        "\n",
        "import os\n",
        "import sys\n",
        "from google.colab import drive, files\n",
        "if not os.path.exists(\"/content/drive\"):\n",
        "    drive.mount('/content/drive')\n",
        "DRIVE = \"Colab Drive\"\n",
        "\n",
        "REPOSITORY = \"PyTorch3D\"\n",
        "if not os.path.exists(f\"/content/{REPOSITORY}\"):\n",
        "    !git clone https://github.com/ArmanOmmid/{REPOSITORY}.git\n",
        "    %cd /content/{REPOSITORY}\n",
        "else:\n",
        "    %cd /content/{REPOSITORY}\n",
        "    !git pull"
      ]
    },
    {
      "cell_type": "code",
      "source": [
        "!pip install --quiet open3d\n",
        "!pip install --quiet torchinfo\n",
        "!python3 download/modelnet.py -v 10"
      ],
      "metadata": {
        "colab": {
          "base_uri": "https://localhost:8080/"
        },
        "id": "3F28wGKylvQi",
        "outputId": "93d6b7e5-9099-408a-d983-eb6aa3891816"
      },
      "execution_count": 20,
      "outputs": [
        {
          "output_type": "stream",
          "name": "stdout",
          "text": [
            "ModelNet10 Already Downloaded\n"
          ]
        }
      ]
    },
    {
      "cell_type": "code",
      "source": [
        "import torch\n",
        "from torchinfo import summary\n",
        "from torchvision import transforms\n",
        "\n",
        "from src.data.modelnet import ModelNet\n",
        "from src.models.pointnet import PointNet"
      ],
      "metadata": {
        "id": "bo0WoCFTmlB-"
      },
      "execution_count": 21,
      "outputs": []
    },
    {
      "cell_type": "code",
      "source": [
        "DIR = os.getcwd()\n",
        "MODEL_NET_PATH =f\"{DIR}/ModelNet10\"\n",
        "\n",
        "dataset = ModelNet(MODEL_NET_PATH, 10_000)\n",
        "model = PointNet(10, 64)\n",
        "\n",
        "device = torch.device('cuda' if torch.cuda.is_available() else 'cpu')\n",
        "model = model.to(device)"
      ],
      "metadata": {
        "id": "43DuCrDsmRWh"
      },
      "execution_count": 27,
      "outputs": []
    },
    {
      "cell_type": "code",
      "source": [
        "criterion = torch.nn.CrossEntropyLoss()\n",
        "optimizer = torch.optim.Adam(model.parameters(), lr=0.0002, weight_decay=0.0002)\n",
        "transform = transforms.Compose([\n",
        "    transforms.ToTensor()\n",
        "])\n",
        "dataset.set_transform(transform)"
      ],
      "metadata": {
        "id": "D3L0RdlEnrvn"
      },
      "execution_count": 28,
      "outputs": []
    },
    {
      "cell_type": "code",
      "source": [
        "dataloader = torch.utils.data.DataLoader(dataset, batch_size=64, shuffle=True)"
      ],
      "metadata": {
        "id": "LS0UNXmc0bfo"
      },
      "execution_count": 10,
      "outputs": []
    },
    {
      "cell_type": "code",
      "source": [
        "summary(model, (1, 1000, 3))"
      ],
      "metadata": {
        "id": "xa94RuJ61swl"
      },
      "execution_count": null,
      "outputs": []
    },
    {
      "cell_type": "code",
      "source": [
        "model.eval()\n",
        "model(dataset[0][0].to(device)).detach()"
      ],
      "metadata": {
        "id": "L4h-TghS1RtT",
        "outputId": "35507c1c-ffed-4be0-c4c2-1e8cf37b8ebe",
        "colab": {
          "base_uri": "https://localhost:8080/"
        }
      },
      "execution_count": 33,
      "outputs": [
        {
          "output_type": "execute_result",
          "data": {
            "text/plain": [
              "tensor([[-0.1701, -0.4040,  0.4160,  0.5088, -0.3187,  0.0815, -0.4886, -0.3576,\n",
              "         -0.0922,  0.2520]], device='cuda:0')"
            ]
          },
          "metadata": {},
          "execution_count": 33
        }
      ]
    }
  ]
}