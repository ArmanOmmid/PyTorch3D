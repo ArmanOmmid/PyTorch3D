{
  "nbformat": 4,
  "nbformat_minor": 0,
  "metadata": {
    "colab": {
      "provenance": [],
      "gpuType": "A100",
      "authorship_tag": "ABX9TyN2rgf4EVGqPMK2MhCIhKYK",
      "include_colab_link": true
    },
    "kernelspec": {
      "name": "python3",
      "display_name": "Python 3"
    },
    "language_info": {
      "name": "python"
    },
    "accelerator": "GPU"
  },
  "cells": [
    {
      "cell_type": "markdown",
      "metadata": {
        "id": "view-in-github",
        "colab_type": "text"
      },
      "source": [
        "<a href=\"https://colab.research.google.com/github/ArmanOmmid/PyTorch3D/blob/main/colab.ipynb\" target=\"_parent\"><img src=\"https://colab.research.google.com/assets/colab-badge.svg\" alt=\"Open In Colab\"/></a>"
      ]
    },
    {
      "cell_type": "code",
      "execution_count": 1,
      "metadata": {
        "id": "FxchLyOqeG15",
        "colab": {
          "base_uri": "https://localhost:8080/"
        },
        "outputId": "b730f392-aa69-406e-bdc2-760a7dee1681"
      },
      "outputs": [
        {
          "output_type": "stream",
          "name": "stdout",
          "text": [
            "/content\n",
            "Cloning into 'PyTorch3D'...\n",
            "remote: Enumerating objects: 12, done.\u001b[K\n",
            "remote: Counting objects: 100% (12/12), done.\u001b[K\n",
            "remote: Compressing objects: 100% (10/10), done.\u001b[K\n",
            "remote: Total 12 (delta 2), reused 0 (delta 0), pack-reused 0\u001b[K\n",
            "Receiving objects: 100% (12/12), done.\n",
            "Resolving deltas: 100% (2/2), done.\n",
            "/content/PyTorch3D\n"
          ]
        }
      ],
      "source": [
        "%cd /content\n",
        "\n",
        "import os\n",
        "import sys\n",
        "from google.colab import drive, files\n",
        "if not os.path.exists(\"/content/drive\"):\n",
        "    drive.mount('/content/drive')\n",
        "DRIVE = \"Colab Drive\"\n",
        "\n",
        "REPOSITORY = \"PyTorch3D\"\n",
        "!rm -rf {REPOSITORY}\n",
        "!git clone https://github.com/ArmanOmmid/{REPOSITORY}.git\n",
        "\n",
        "%cd /content/{REPOSITORY}"
      ]
    },
    {
      "cell_type": "code",
      "source": [
        "!pip3 install open3d"
      ],
      "metadata": {
        "id": "gHnPZHWCxtDR"
      },
      "execution_count": 2,
      "outputs": []
    },
    {
      "cell_type": "code",
      "source": [
        "import open3d as o3d\n",
        "import numpy as np"
      ],
      "metadata": {
        "id": "p4eeu7aTxmzV"
      },
      "execution_count": 3,
      "outputs": []
    },
    {
      "cell_type": "code",
      "source": [
        "dataset = o3d.data.EaglePointCloud()\n",
        "pcd = o3d.io.read_point_cloud(dataset.path)"
      ],
      "metadata": {
        "id": "SS-A5bWL2ASR"
      },
      "execution_count": 4,
      "outputs": []
    },
    {
      "cell_type": "code",
      "source": [
        "o3d.visualization.draw(pcd)"
      ],
      "metadata": {
        "id": "VuBgsThz3HOU"
      },
      "execution_count": null,
      "outputs": []
    }
  ]
}