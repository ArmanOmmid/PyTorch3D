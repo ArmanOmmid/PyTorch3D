{
  "nbformat": 4,
  "nbformat_minor": 0,
  "metadata": {
    "colab": {
      "provenance": [],
      "gpuType": "V100",
      "authorship_tag": "ABX9TyPBjf6EWjfbTSlfp1CJzFvW",
      "include_colab_link": true
    },
    "kernelspec": {
      "name": "python3",
      "display_name": "Python 3"
    },
    "language_info": {
      "name": "python"
    },
    "accelerator": "GPU"
  },
  "cells": [
    {
      "cell_type": "markdown",
      "metadata": {
        "id": "view-in-github",
        "colab_type": "text"
      },
      "source": [
        "<a href=\"https://colab.research.google.com/github/ArmanOmmid/PyTorch3D/blob/main/colab.ipynb\" target=\"_parent\"><img src=\"https://colab.research.google.com/assets/colab-badge.svg\" alt=\"Open In Colab\"/></a>"
      ]
    },
    {
      "cell_type": "code",
      "execution_count": 1,
      "metadata": {
        "id": "FxchLyOqeG15",
        "colab": {
          "base_uri": "https://localhost:8080/"
        },
        "outputId": "44f761a8-8369-417c-ffd0-cf267011af51"
      },
      "outputs": [
        {
          "output_type": "stream",
          "name": "stdout",
          "text": [
            "/content\n",
            "/content/PyTorch3D\n",
            "remote: Enumerating objects: 9, done.\u001b[K\n",
            "remote: Counting objects: 100% (9/9), done.\u001b[K\n",
            "remote: Compressing objects: 100% (2/2), done.\u001b[K\n",
            "remote: Total 5 (delta 2), reused 5 (delta 2), pack-reused 0\u001b[K\n",
            "Unpacking objects: 100% (5/5), 403 bytes | 201.00 KiB/s, done.\n",
            "From https://github.com/ArmanOmmid/PyTorch3D\n",
            "   0658a8c..a12be80  main       -> origin/main\n",
            "Updating 0658a8c..a12be80\n",
            "Fast-forward\n",
            " src/data/modelnet.py | 2 \u001b[32m+\u001b[m\u001b[31m-\u001b[m\n",
            " 1 file changed, 1 insertion(+), 1 deletion(-)\n"
          ]
        }
      ],
      "source": [
        "%cd /content\n",
        "\n",
        "import os\n",
        "import sys\n",
        "from google.colab import drive, files\n",
        "if not os.path.exists(\"/content/drive\"):\n",
        "    drive.mount('/content/drive')\n",
        "DRIVE = \"Colab Drive\"\n",
        "\n",
        "REPOSITORY = \"PyTorch3D\"\n",
        "if not os.path.exists(f\"/content/{REPOSITORY}\"):\n",
        "    !git clone https://github.com/ArmanOmmid/{REPOSITORY}.git\n",
        "    %cd /content/{REPOSITORY}\n",
        "else:\n",
        "    %cd /content/{REPOSITORY}\n",
        "    !git pull"
      ]
    },
    {
      "cell_type": "code",
      "source": [
        "!pip install --quiet open3d\n",
        "!python3 download/modelnet.py -v 10"
      ],
      "metadata": {
        "colab": {
          "base_uri": "https://localhost:8080/"
        },
        "id": "3F28wGKylvQi",
        "outputId": "9788e6f9-a52b-4a8e-dcfa-5ab969e4df1f"
      },
      "execution_count": 2,
      "outputs": [
        {
          "output_type": "stream",
          "name": "stdout",
          "text": [
            "ModelNet10 Already Downloaded\n"
          ]
        }
      ]
    },
    {
      "cell_type": "code",
      "source": [
        "import torch\n",
        "from torchvision import transforms\n",
        "\n",
        "from src.data.modelnet import ModelNet\n",
        "from src.models.pointnet import PointNet"
      ],
      "metadata": {
        "id": "bo0WoCFTmlB-"
      },
      "execution_count": 3,
      "outputs": []
    },
    {
      "cell_type": "code",
      "source": [
        "DIR = os.getcwd()\n",
        "MODEL_NET_PATH =f\"{DIR}/ModelNet10\"\n",
        "\n",
        "dataset = ModelNet(MODEL_NET_PATH, 10_000)\n",
        "model = PointNet(10, 64)\n",
        "\n",
        "device = torch.device('cuda' if torch.cuda.is_available() else 'cpu')\n",
        "model = model.to(device)"
      ],
      "metadata": {
        "id": "43DuCrDsmRWh"
      },
      "execution_count": 4,
      "outputs": []
    },
    {
      "cell_type": "code",
      "source": [
        "criterion = torch.nn.CrossEntropyLoss()\n",
        "optimizer = torch.optim.Adam(model.parameters(), lr=0.0002, weight_decay=0.0002)\n",
        "transform = transforms.Compose([\n",
        "    transforms.ToTensor()\n",
        "])\n",
        "dataset.set_transform(transform)"
      ],
      "metadata": {
        "id": "D3L0RdlEnrvn"
      },
      "execution_count": 5,
      "outputs": []
    },
    {
      "cell_type": "code",
      "source": [
        "dataloader = torch.utils.data.DataLoader(dataset, batch_size=64, shuffle=True)"
      ],
      "metadata": {
        "id": "LS0UNXmc0bfo"
      },
      "execution_count": 10,
      "outputs": []
    }
  ]
}