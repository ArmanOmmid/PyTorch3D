{
  "nbformat": 4,
  "nbformat_minor": 0,
  "metadata": {
    "colab": {
      "provenance": [],
      "authorship_tag": "ABX9TyPumJ14WBXotpZcolDsIBv+",
      "include_colab_link": true
    },
    "kernelspec": {
      "name": "python3",
      "display_name": "Python 3"
    },
    "language_info": {
      "name": "python"
    }
  },
  "cells": [
    {
      "cell_type": "markdown",
      "metadata": {
        "id": "view-in-github",
        "colab_type": "text"
      },
      "source": [
        "<a href=\"https://colab.research.google.com/github/ArmanOmmid/PyTorch3D/blob/main/PyTorch3D.ipynb\" target=\"_parent\"><img src=\"https://colab.research.google.com/assets/colab-badge.svg\" alt=\"Open In Colab\"/></a>"
      ]
    },
    {
      "cell_type": "code",
      "execution_count": 3,
      "metadata": {
        "id": "FxchLyOqeG15"
      },
      "outputs": [],
      "source": [
        "import os\n",
        "from google.colab import drive, files\n",
        "if not os.path.exists(\"/content/drive\"):\n",
        "    drive.mount('/content/drive')\n",
        "DRIVE = \"Colab Drive\""
      ]
    }
  ]
}